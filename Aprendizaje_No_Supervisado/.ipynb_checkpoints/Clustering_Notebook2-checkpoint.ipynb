{
 "cells": [
  {
   "cell_type": "markdown",
   "metadata": {},
   "source": [
    "# Notebook 2:  Clustering con GMM y Algoritmos Jerárquicos\n",
    "\n",
    "En este notebook vamos a implementar el algoritmo de clustering de Mezcla de Normales en R. El objetivo es entender como funciona este algoritmo y  aprender a utilizarlo con un ejemplo simple. Se incluye además la estrategia para definir el número de grupos k. Al final se propone un ejercicio con nuevos datos, con el fin de aprender a utilizar el algoritmo. "
   ]
  },
  {
   "cell_type": "code",
   "execution_count": 2,
   "metadata": {},
   "outputs": [
    {
     "name": "stderr",
     "output_type": "stream",
     "text": [
      "Package 'mclust' version 5.4.1\n",
      "Type 'citation(\"mclust\")' for citing this R package in publications.\n"
     ]
    },
    {
     "data": {
      "text/plain": [
       "     WATER          PROTEIN            FAT           LACTOSE     \n",
       " Min.   :44.90   Min.   : 0.600   Min.   : 1.00   Min.   :0.000  \n",
       " 1st Qu.:71.30   1st Qu.: 3.000   1st Qu.: 3.40   1st Qu.:2.700  \n",
       " Median :82.00   Median : 5.900   Median : 6.30   Median :4.700  \n",
       " Mean   :78.18   Mean   : 6.212   Mean   :10.31   Mean   :4.132  \n",
       " 3rd Qu.:87.70   3rd Qu.: 9.700   3rd Qu.:13.10   3rd Qu.:5.600  \n",
       " Max.   :90.40   Max.   :12.300   Max.   :42.00   Max.   :6.900  \n",
       "      ASH        \n",
       " Min.   :0.1000  \n",
       " 1st Qu.:0.5300  \n",
       " Median :0.8000  \n",
       " Mean   :0.8632  \n",
       " 3rd Qu.:1.1000  \n",
       " Max.   :2.3000  "
      ]
     },
     "metadata": {},
     "output_type": "display_data"
    }
   ],
   "source": [
    "library(mclust)\n",
    "library(cluster)\n",
    "#ruta datos\n",
    "#lee datos del archivo de texto como una matriz. La primera #columna se utiliza como vector de nombres de las filas\n",
    "datos <-read.table(\"milk1.dat\",row.names=1,dec=\".\",header=TRUE)\n",
    "summary(datos)"
   ]
  },
  {
   "cell_type": "code",
   "execution_count": 3,
   "metadata": {
    "scrolled": true
   },
   "outputs": [
    {
     "data": {
      "text/plain": [
       "---------------------------------------------------- \n",
       "Gaussian finite mixture model fitted by EM algorithm \n",
       "---------------------------------------------------- \n",
       "\n",
       "Mclust VEV (ellipsoidal, equal shape) model with 4 components: \n",
       "\n",
       " log.likelihood  n df       BIC       ICL\n",
       "      -129.0138 25 71 -486.5678 -486.5782\n",
       "\n",
       "Clustering table:\n",
       "1 2 3 4 \n",
       "5 8 7 5 "
      ]
     },
     "metadata": {},
     "output_type": "display_data"
    },
    {
     "data": {
      "text/plain": [
       "'Mclust' model object: (VEV,4) \n",
       "\n",
       "Available components: \n",
       " [1] \"call\"           \"data\"           \"modelName\"      \"n\"             \n",
       " [5] \"d\"              \"G\"              \"BIC\"            \"bic\"           \n",
       " [9] \"loglik\"         \"df\"             \"hypvol\"         \"parameters\"    \n",
       "[13] \"z\"              \"classification\" \"uncertainty\"   "
      ]
     },
     "metadata": {},
     "output_type": "display_data"
    },
    {
     "data": {
      "text/html": [
       "<table>\n",
       "<thead><tr><th scope=col>WATER</th><th scope=col>PROTEIN</th><th scope=col>FAT</th><th scope=col>LACTOSE</th><th scope=col>ASH</th></tr></thead>\n",
       "<tbody>\n",
       "\t<tr><td>89.45999 </td><td> 1.980001</td><td> 2.080005</td><td>6.200009 </td><td>0.3279979</td></tr>\n",
       "\t<tr><td>71.88271 </td><td> 7.298580</td><td>15.881214</td><td>3.088610 </td><td>0.7512686</td></tr>\n",
       "\t<tr><td>84.71493 </td><td> 4.756873</td><td> 4.756149</td><td>5.100211 </td><td>0.8185953</td></tr>\n",
       "\t<tr><td>67.86000 </td><td>10.740002</td><td>17.380003</td><td>2.379999 </td><td>1.6400005</td></tr>\n",
       "</tbody>\n",
       "</table>\n"
      ],
      "text/latex": [
       "\\begin{tabular}{lllll}\n",
       " WATER & PROTEIN & FAT & LACTOSE & ASH\\\\\n",
       "\\hline\n",
       "\t 89.45999  &  1.980001 &  2.080005 & 6.200009  & 0.3279979\\\\\n",
       "\t 71.88271  &  7.298580 & 15.881214 & 3.088610  & 0.7512686\\\\\n",
       "\t 84.71493  &  4.756873 &  4.756149 & 5.100211  & 0.8185953\\\\\n",
       "\t 67.86000  & 10.740002 & 17.380003 & 2.379999  & 1.6400005\\\\\n",
       "\\end{tabular}\n"
      ],
      "text/markdown": [
       "\n",
       "WATER | PROTEIN | FAT | LACTOSE | ASH | \n",
       "|---|---|---|---|\n",
       "| 89.45999  |  1.980001 |  2.080005 | 6.200009  | 0.3279979 | \n",
       "| 71.88271  |  7.298580 | 15.881214 | 3.088610  | 0.7512686 | \n",
       "| 84.71493  |  4.756873 |  4.756149 | 5.100211  | 0.8185953 | \n",
       "| 67.86000  | 10.740002 | 17.380003 | 2.379999  | 1.6400005 | \n",
       "\n",
       "\n"
      ],
      "text/plain": [
       "     WATER    PROTEIN   FAT       LACTOSE  ASH      \n",
       "[1,] 89.45999  1.980001  2.080005 6.200009 0.3279979\n",
       "[2,] 71.88271  7.298580 15.881214 3.088610 0.7512686\n",
       "[3,] 84.71493  4.756873  4.756149 5.100211 0.8185953\n",
       "[4,] 67.86000 10.740002 17.380003 2.379999 1.6400005"
      ]
     },
     "metadata": {},
     "output_type": "display_data"
    },
    {
     "data": {
      "text/html": [
       "<dl class=dl-horizontal>\n",
       "\t<dt>HORSE</dt>\n",
       "\t\t<dd>1</dd>\n",
       "\t<dt>ORANGUTAN</dt>\n",
       "\t\t<dd>1</dd>\n",
       "\t<dt>MONKEY</dt>\n",
       "\t\t<dd>1</dd>\n",
       "\t<dt>DONKEY</dt>\n",
       "\t\t<dd>1</dd>\n",
       "\t<dt>HIPPO</dt>\n",
       "\t\t<dd>2</dd>\n",
       "\t<dt>CAMEL</dt>\n",
       "\t\t<dd>3</dd>\n",
       "\t<dt>BISON</dt>\n",
       "\t\t<dd>3</dd>\n",
       "\t<dt>BUFFALO</dt>\n",
       "\t\t<dd>3</dd>\n",
       "\t<dt>GUINEA_PIG</dt>\n",
       "\t\t<dd>2</dd>\n",
       "\t<dt>CAT</dt>\n",
       "\t\t<dd>2</dd>\n",
       "\t<dt>FOX</dt>\n",
       "\t\t<dd>3</dd>\n",
       "\t<dt>LLAMA</dt>\n",
       "\t\t<dd>3</dd>\n",
       "\t<dt>MULE</dt>\n",
       "\t\t<dd>1</dd>\n",
       "\t<dt>PIG</dt>\n",
       "\t\t<dd>2</dd>\n",
       "\t<dt>ZEBRA</dt>\n",
       "\t\t<dd>3</dd>\n",
       "\t<dt>SHEEP</dt>\n",
       "\t\t<dd>3</dd>\n",
       "\t<dt>DOG</dt>\n",
       "\t\t<dd>2</dd>\n",
       "\t<dt>ELEPHANT</dt>\n",
       "\t\t<dd>2</dd>\n",
       "\t<dt>RABBIT</dt>\n",
       "\t\t<dd>4</dd>\n",
       "\t<dt>RAT</dt>\n",
       "\t\t<dd>4</dd>\n",
       "\t<dt>DEER</dt>\n",
       "\t\t<dd>4</dd>\n",
       "\t<dt>REINDEER</dt>\n",
       "\t\t<dd>4</dd>\n",
       "\t<dt>WHALE</dt>\n",
       "\t\t<dd>4</dd>\n",
       "\t<dt>SEAL</dt>\n",
       "\t\t<dd>2</dd>\n",
       "\t<dt>DOLPHIN</dt>\n",
       "\t\t<dd>2</dd>\n",
       "</dl>\n"
      ],
      "text/latex": [
       "\\begin{description*}\n",
       "\\item[HORSE] 1\n",
       "\\item[ORANGUTAN] 1\n",
       "\\item[MONKEY] 1\n",
       "\\item[DONKEY] 1\n",
       "\\item[HIPPO] 2\n",
       "\\item[CAMEL] 3\n",
       "\\item[BISON] 3\n",
       "\\item[BUFFALO] 3\n",
       "\\item[GUINEA\\textbackslash{}\\_PIG] 2\n",
       "\\item[CAT] 2\n",
       "\\item[FOX] 3\n",
       "\\item[LLAMA] 3\n",
       "\\item[MULE] 1\n",
       "\\item[PIG] 2\n",
       "\\item[ZEBRA] 3\n",
       "\\item[SHEEP] 3\n",
       "\\item[DOG] 2\n",
       "\\item[ELEPHANT] 2\n",
       "\\item[RABBIT] 4\n",
       "\\item[RAT] 4\n",
       "\\item[DEER] 4\n",
       "\\item[REINDEER] 4\n",
       "\\item[WHALE] 4\n",
       "\\item[SEAL] 2\n",
       "\\item[DOLPHIN] 2\n",
       "\\end{description*}\n"
      ],
      "text/markdown": [
       "HORSE\n",
       ":   1ORANGUTAN\n",
       ":   1MONKEY\n",
       ":   1DONKEY\n",
       ":   1HIPPO\n",
       ":   2CAMEL\n",
       ":   3BISON\n",
       ":   3BUFFALO\n",
       ":   3GUINEA_PIG\n",
       ":   2CAT\n",
       ":   2FOX\n",
       ":   3LLAMA\n",
       ":   3MULE\n",
       ":   1PIG\n",
       ":   2ZEBRA\n",
       ":   3SHEEP\n",
       ":   3DOG\n",
       ":   2ELEPHANT\n",
       ":   2RABBIT\n",
       ":   4RAT\n",
       ":   4DEER\n",
       ":   4REINDEER\n",
       ":   4WHALE\n",
       ":   4SEAL\n",
       ":   2DOLPHIN\n",
       ":   2\n",
       "\n"
      ],
      "text/plain": [
       "     HORSE  ORANGUTAN     MONKEY     DONKEY      HIPPO      CAMEL      BISON \n",
       "         1          1          1          1          2          3          3 \n",
       "   BUFFALO GUINEA_PIG        CAT        FOX      LLAMA       MULE        PIG \n",
       "         3          2          2          3          3          1          2 \n",
       "     ZEBRA      SHEEP        DOG   ELEPHANT     RABBIT        RAT       DEER \n",
       "         3          3          2          2          4          4          4 \n",
       "  REINDEER      WHALE       SEAL    DOLPHIN \n",
       "         4          4          2          2 "
      ]
     },
     "metadata": {},
     "output_type": "display_data"
    }
   ],
   "source": [
    "clus <-Mclust(datos, G=4)\n",
    "summary(clus)\n",
    "clus\n",
    "\n",
    "cl <- clus$classification\n",
    "centers <- t(clus$parameters$mean)\n",
    "centers\n",
    "cl"
   ]
  },
  {
   "cell_type": "markdown",
   "metadata": {},
   "source": [
    "Ejercicio 1: \n",
    "a) Explique como funciona el método Mclust, describa parámetros de entrada y salida.\n",
    "b) Interprete y comente los resultados obtenidos. "
   ]
  },
  {
   "cell_type": "markdown",
   "metadata": {},
   "source": [
    "**a)**<br>\n",
    "Mclust es una libreria que para modelos basados en clustering, clasificación y estimación de densidad basado en el modelado de mezclas.\n",
    "\n",
    "_Entradas destacadas_<br>\n",
    "- **data**: Vector numérico, matriz o data frame de observaciones. Noi se aceptan variables de tipo categóricas. Si la entrada es una matriz o data frame, las filas corresponden a observaciones y las columnas a variables.\n",
    "- **G**: Un vector de enteros especificando el número de componentes de la mezcla ***(clusters)*** para los cuales se calculará el BIC.(valor predeterminado: G=1:9)\n",
    "- **modelNames**: Un vector de strings indicando los modelos a ser ajustados en la fase EM del clústering.\n",
    "\n"
   ]
  },
  {
   "cell_type": "markdown",
   "metadata": {},
   "source": [
    "**b)**<br>\n",
    "- Se crearon grupos a partir de los componentes de la leche de ellos.<br>\n",
    "\n",
    "| Grupo | %Agua  | %Proteina | %Grasa | %Lactosa | %Minerales (Ash) |\n",
    "| ------------- | ------------- | ------------- | ------------- |\n",
    "| **#1**  | 89.45999  | 1.980001  | 2.080005  | 6.200009 | 0.3279979  |\n",
    "| **#2**  | 71.88271  | 7.298580  | 15.881214  | 3.088610 | 0.7512686  |\n",
    "| **#3**  | 84.71493  | 4.756873  | 4.756149  | 5.100211 | 0.8185953  |\n",
    "| **#4**  | 67.86  | 10.740002  | 17.380003  | 2.379999 | 1.6400005  |\n",
    "\n",
    "- Se asignaron animales para los que su leche tienen caracterśiticas en común a cada uno de los grupos.<br>\n",
    "\n",
    "\n"
   ]
  },
  {
   "cell_type": "code",
   "execution_count": 4,
   "metadata": {},
   "outputs": [
    {
     "data": {
      "image/png": "[encoded data removed]",
      "text/plain": [
       "plot without title"
      ]
     },
     "metadata": {},
     "output_type": "display_data"
    }
   ],
   "source": [
    "#Análisis de Componentes Principales para graficar los grupos obtenidos\n",
    "#Calcula plano de componentes principales y grafica las observaciones con el número de su grupo\n",
    "res <- princomp(datos, cor=TRUE)\n",
    "res2 <- predict(res,centers)\n",
    "\n",
    "biplot(res,xlabs=cl)\n",
    "#grafica los centros de cada grupo en el plano de componentes principales utilizando colores distintos\n",
    "points(res2[,1:2],col=1:9,pch=19)\n"
   ]
  },
  {
   "cell_type": "markdown",
   "metadata": {},
   "source": [
    "Ejercicio 2: Repita el procedimiento considerando 2, 3 y 4 grupos. Discuta y compare  sus resultados con aquellos obtenidos con k-means"
   ]
  },
  {
   "cell_type": "code",
   "execution_count": 18,
   "metadata": {},
   "outputs": [
    {
     "data": {
      "text/plain": [
       "---------------------------------------------------- \n",
       "Gaussian finite mixture model fitted by EM algorithm \n",
       "---------------------------------------------------- \n",
       "\n",
       "Mclust EVV (ellipsoidal, equal volume) model with 2 components: \n",
       "\n",
       " log.likelihood  n df       BIC       ICL\n",
       "      -176.5541 25 40 -481.8633 -481.8762\n",
       "\n",
       "Clustering table:\n",
       " 1  2 \n",
       "18  7 "
      ]
     },
     "metadata": {},
     "output_type": "display_data"
    },
    {
     "data": {
      "text/plain": [
       "'Mclust' model object: (EVV,2) \n",
       "\n",
       "Available components: \n",
       " [1] \"call\"           \"data\"           \"modelName\"      \"n\"             \n",
       " [5] \"d\"              \"G\"              \"BIC\"            \"bic\"           \n",
       " [9] \"loglik\"         \"df\"             \"hypvol\"         \"parameters\"    \n",
       "[13] \"z\"              \"classification\" \"uncertainty\"   "
      ]
     },
     "metadata": {},
     "output_type": "display_data"
    },
    {
     "data": {
      "text/html": [
       "<table>\n",
       "<thead><tr><th scope=col>WATER</th><th scope=col>PROTEIN</th><th scope=col>FAT</th><th scope=col>LACTOSE</th><th scope=col>ASH</th></tr></thead>\n",
       "<tbody>\n",
       "\t<tr><td>84.69570 </td><td>5.001479 </td><td> 4.969356</td><td>4.821686 </td><td>0.7596701</td></tr>\n",
       "\t<tr><td>61.41853 </td><td>9.328688 </td><td>24.053235</td><td>2.356288 </td><td>1.1297551</td></tr>\n",
       "</tbody>\n",
       "</table>\n"
      ],
      "text/latex": [
       "\\begin{tabular}{lllll}\n",
       " WATER & PROTEIN & FAT & LACTOSE & ASH\\\\\n",
       "\\hline\n",
       "\t 84.69570  & 5.001479  &  4.969356 & 4.821686  & 0.7596701\\\\\n",
       "\t 61.41853  & 9.328688  & 24.053235 & 2.356288  & 1.1297551\\\\\n",
       "\\end{tabular}\n"
      ],
      "text/markdown": [
       "\n",
       "WATER | PROTEIN | FAT | LACTOSE | ASH | \n",
       "|---|---|\n",
       "| 84.69570  | 5.001479  |  4.969356 | 4.821686  | 0.7596701 | \n",
       "| 61.41853  | 9.328688  | 24.053235 | 2.356288  | 1.1297551 | \n",
       "\n",
       "\n"
      ],
      "text/plain": [
       "     WATER    PROTEIN  FAT       LACTOSE  ASH      \n",
       "[1,] 84.69570 5.001479  4.969356 4.821686 0.7596701\n",
       "[2,] 61.41853 9.328688 24.053235 2.356288 1.1297551"
      ]
     },
     "metadata": {},
     "output_type": "display_data"
    },
    {
     "data": {
      "text/html": [
       "<dl class=dl-horizontal>\n",
       "\t<dt>HORSE</dt>\n",
       "\t\t<dd>1</dd>\n",
       "\t<dt>ORANGUTAN</dt>\n",
       "\t\t<dd>1</dd>\n",
       "\t<dt>MONKEY</dt>\n",
       "\t\t<dd>1</dd>\n",
       "\t<dt>DONKEY</dt>\n",
       "\t\t<dd>1</dd>\n",
       "\t<dt>HIPPO</dt>\n",
       "\t\t<dd>1</dd>\n",
       "\t<dt>CAMEL</dt>\n",
       "\t\t<dd>1</dd>\n",
       "\t<dt>BISON</dt>\n",
       "\t\t<dd>1</dd>\n",
       "\t<dt>BUFFALO</dt>\n",
       "\t\t<dd>1</dd>\n",
       "\t<dt>GUINEA_PIG</dt>\n",
       "\t\t<dd>1</dd>\n",
       "\t<dt>CAT</dt>\n",
       "\t\t<dd>1</dd>\n",
       "\t<dt>FOX</dt>\n",
       "\t\t<dd>1</dd>\n",
       "\t<dt>LLAMA</dt>\n",
       "\t\t<dd>1</dd>\n",
       "\t<dt>MULE</dt>\n",
       "\t\t<dd>1</dd>\n",
       "\t<dt>PIG</dt>\n",
       "\t\t<dd>1</dd>\n",
       "\t<dt>ZEBRA</dt>\n",
       "\t\t<dd>1</dd>\n",
       "\t<dt>SHEEP</dt>\n",
       "\t\t<dd>1</dd>\n",
       "\t<dt>DOG</dt>\n",
       "\t\t<dd>1</dd>\n",
       "\t<dt>ELEPHANT</dt>\n",
       "\t\t<dd>2</dd>\n",
       "\t<dt>RABBIT</dt>\n",
       "\t\t<dd>1</dd>\n",
       "\t<dt>RAT</dt>\n",
       "\t\t<dd>2</dd>\n",
       "\t<dt>DEER</dt>\n",
       "\t\t<dd>2</dd>\n",
       "\t<dt>REINDEER</dt>\n",
       "\t\t<dd>2</dd>\n",
       "\t<dt>WHALE</dt>\n",
       "\t\t<dd>2</dd>\n",
       "\t<dt>SEAL</dt>\n",
       "\t\t<dd>2</dd>\n",
       "\t<dt>DOLPHIN</dt>\n",
       "\t\t<dd>2</dd>\n",
       "</dl>\n"
      ],
      "text/latex": [
       "\\begin{description*}\n",
       "\\item[HORSE] 1\n",
       "\\item[ORANGUTAN] 1\n",
       "\\item[MONKEY] 1\n",
       "\\item[DONKEY] 1\n",
       "\\item[HIPPO] 1\n",
       "\\item[CAMEL] 1\n",
       "\\item[BISON] 1\n",
       "\\item[BUFFALO] 1\n",
       "\\item[GUINEA\\textbackslash{}\\_PIG] 1\n",
       "\\item[CAT] 1\n",
       "\\item[FOX] 1\n",
       "\\item[LLAMA] 1\n",
       "\\item[MULE] 1\n",
       "\\item[PIG] 1\n",
       "\\item[ZEBRA] 1\n",
       "\\item[SHEEP] 1\n",
       "\\item[DOG] 1\n",
       "\\item[ELEPHANT] 2\n",
       "\\item[RABBIT] 1\n",
       "\\item[RAT] 2\n",
       "\\item[DEER] 2\n",
       "\\item[REINDEER] 2\n",
       "\\item[WHALE] 2\n",
       "\\item[SEAL] 2\n",
       "\\item[DOLPHIN] 2\n",
       "\\end{description*}\n"
      ],
      "text/markdown": [
       "HORSE\n",
       ":   1ORANGUTAN\n",
       ":   1MONKEY\n",
       ":   1DONKEY\n",
       ":   1HIPPO\n",
       ":   1CAMEL\n",
       ":   1BISON\n",
       ":   1BUFFALO\n",
       ":   1GUINEA_PIG\n",
       ":   1CAT\n",
       ":   1FOX\n",
       ":   1LLAMA\n",
       ":   1MULE\n",
       ":   1PIG\n",
       ":   1ZEBRA\n",
       ":   1SHEEP\n",
       ":   1DOG\n",
       ":   1ELEPHANT\n",
       ":   2RABBIT\n",
       ":   1RAT\n",
       ":   2DEER\n",
       ":   2REINDEER\n",
       ":   2WHALE\n",
       ":   2SEAL\n",
       ":   2DOLPHIN\n",
       ":   2\n",
       "\n"
      ],
      "text/plain": [
       "     HORSE  ORANGUTAN     MONKEY     DONKEY      HIPPO      CAMEL      BISON \n",
       "         1          1          1          1          1          1          1 \n",
       "   BUFFALO GUINEA_PIG        CAT        FOX      LLAMA       MULE        PIG \n",
       "         1          1          1          1          1          1          1 \n",
       "     ZEBRA      SHEEP        DOG   ELEPHANT     RABBIT        RAT       DEER \n",
       "         1          1          1          2          1          2          2 \n",
       "  REINDEER      WHALE       SEAL    DOLPHIN \n",
       "         2          2          2          2 "
      ]
     },
     "metadata": {},
     "output_type": "display_data"
    }
   ],
   "source": [
    "#para g=2 (2 grupos)\n",
    "clus2 <-Mclust(datos, G=2)\n",
    "summary(clus2)\n",
    "clus2\n",
    "\n",
    "cl2 <- clus2$classification\n",
    "centers2 <- t(clus2$parameters$mean)\n",
    "centers2\n",
    "cl2"
   ]
  },
  {
   "cell_type": "code",
   "execution_count": 22,
   "metadata": {},
   "outputs": [
    {
     "data": {
      "text/plain": [
       "---------------------------------------------------- \n",
       "Gaussian finite mixture model fitted by EM algorithm \n",
       "---------------------------------------------------- \n",
       "\n",
       "Mclust EEV (ellipsoidal, equal volume and shape) model with 3 components: \n",
       "\n",
       " log.likelihood  n df       BIC       ICL\n",
       "      -144.2366 25 52 -455.8548 -455.8584\n",
       "\n",
       "Clustering table:\n",
       " 1  2  3 \n",
       "14  5  6 "
      ]
     },
     "metadata": {},
     "output_type": "display_data"
    },
    {
     "data": {
      "text/plain": [
       "'Mclust' model object: (EEV,3) \n",
       "\n",
       "Available components: \n",
       " [1] \"call\"           \"data\"           \"modelName\"      \"n\"             \n",
       " [5] \"d\"              \"G\"              \"BIC\"            \"bic\"           \n",
       " [9] \"loglik\"         \"df\"             \"hypvol\"         \"parameters\"    \n",
       "[13] \"z\"              \"classification\" \"uncertainty\"   "
      ]
     },
     "metadata": {},
     "output_type": "display_data"
    },
    {
     "data": {
      "text/html": [
       "<table>\n",
       "<thead><tr><th scope=col>WATER</th><th scope=col>PROTEIN</th><th scope=col>FAT</th><th scope=col>LACTOSE</th><th scope=col>ASH</th></tr></thead>\n",
       "<tbody>\n",
       "\t<tr><td>86.26361 </td><td> 3.879049</td><td> 3.921919</td><td>5.221110 </td><td>0.6421765</td></tr>\n",
       "\t<tr><td>72.23683 </td><td> 7.520039</td><td>14.782487</td><td>3.660315 </td><td>0.7079534</td></tr>\n",
       "\t<tr><td>64.28310 </td><td>10.566706</td><td>21.483587</td><td>1.983296 </td><td>1.5083364</td></tr>\n",
       "</tbody>\n",
       "</table>\n"
      ],
      "text/latex": [
       "\\begin{tabular}{lllll}\n",
       " WATER & PROTEIN & FAT & LACTOSE & ASH\\\\\n",
       "\\hline\n",
       "\t 86.26361  &  3.879049 &  3.921919 & 5.221110  & 0.6421765\\\\\n",
       "\t 72.23683  &  7.520039 & 14.782487 & 3.660315  & 0.7079534\\\\\n",
       "\t 64.28310  & 10.566706 & 21.483587 & 1.983296  & 1.5083364\\\\\n",
       "\\end{tabular}\n"
      ],
      "text/markdown": [
       "\n",
       "WATER | PROTEIN | FAT | LACTOSE | ASH | \n",
       "|---|---|---|\n",
       "| 86.26361  |  3.879049 |  3.921919 | 5.221110  | 0.6421765 | \n",
       "| 72.23683  |  7.520039 | 14.782487 | 3.660315  | 0.7079534 | \n",
       "| 64.28310  | 10.566706 | 21.483587 | 1.983296  | 1.5083364 | \n",
       "\n",
       "\n"
      ],
      "text/plain": [
       "     WATER    PROTEIN   FAT       LACTOSE  ASH      \n",
       "[1,] 86.26361  3.879049  3.921919 5.221110 0.6421765\n",
       "[2,] 72.23683  7.520039 14.782487 3.660315 0.7079534\n",
       "[3,] 64.28310 10.566706 21.483587 1.983296 1.5083364"
      ]
     },
     "metadata": {},
     "output_type": "display_data"
    },
    {
     "data": {
      "text/html": [
       "<dl class=dl-horizontal>\n",
       "\t<dt>HORSE</dt>\n",
       "\t\t<dd>1</dd>\n",
       "\t<dt>ORANGUTAN</dt>\n",
       "\t\t<dd>1</dd>\n",
       "\t<dt>MONKEY</dt>\n",
       "\t\t<dd>1</dd>\n",
       "\t<dt>DONKEY</dt>\n",
       "\t\t<dd>1</dd>\n",
       "\t<dt>HIPPO</dt>\n",
       "\t\t<dd>1</dd>\n",
       "\t<dt>CAMEL</dt>\n",
       "\t\t<dd>1</dd>\n",
       "\t<dt>BISON</dt>\n",
       "\t\t<dd>1</dd>\n",
       "\t<dt>BUFFALO</dt>\n",
       "\t\t<dd>2</dd>\n",
       "\t<dt>GUINEA_PIG</dt>\n",
       "\t\t<dd>2</dd>\n",
       "\t<dt>CAT</dt>\n",
       "\t\t<dd>2</dd>\n",
       "\t<dt>FOX</dt>\n",
       "\t\t<dd>1</dd>\n",
       "\t<dt>LLAMA</dt>\n",
       "\t\t<dd>1</dd>\n",
       "\t<dt>MULE</dt>\n",
       "\t\t<dd>1</dd>\n",
       "\t<dt>PIG</dt>\n",
       "\t\t<dd>1</dd>\n",
       "\t<dt>ZEBRA</dt>\n",
       "\t\t<dd>1</dd>\n",
       "\t<dt>SHEEP</dt>\n",
       "\t\t<dd>1</dd>\n",
       "\t<dt>DOG</dt>\n",
       "\t\t<dd>1</dd>\n",
       "\t<dt>ELEPHANT</dt>\n",
       "\t\t<dd>2</dd>\n",
       "\t<dt>RABBIT</dt>\n",
       "\t\t<dd>3</dd>\n",
       "\t<dt>RAT</dt>\n",
       "\t\t<dd>3</dd>\n",
       "\t<dt>DEER</dt>\n",
       "\t\t<dd>3</dd>\n",
       "\t<dt>REINDEER</dt>\n",
       "\t\t<dd>3</dd>\n",
       "\t<dt>WHALE</dt>\n",
       "\t\t<dd>3</dd>\n",
       "\t<dt>SEAL</dt>\n",
       "\t\t<dd>3</dd>\n",
       "\t<dt>DOLPHIN</dt>\n",
       "\t\t<dd>2</dd>\n",
       "</dl>\n"
      ],
      "text/latex": [
       "\\begin{description*}\n",
       "\\item[HORSE] 1\n",
       "\\item[ORANGUTAN] 1\n",
       "\\item[MONKEY] 1\n",
       "\\item[DONKEY] 1\n",
       "\\item[HIPPO] 1\n",
       "\\item[CAMEL] 1\n",
       "\\item[BISON] 1\n",
       "\\item[BUFFALO] 2\n",
       "\\item[GUINEA\\textbackslash{}\\_PIG] 2\n",
       "\\item[CAT] 2\n",
       "\\item[FOX] 1\n",
       "\\item[LLAMA] 1\n",
       "\\item[MULE] 1\n",
       "\\item[PIG] 1\n",
       "\\item[ZEBRA] 1\n",
       "\\item[SHEEP] 1\n",
       "\\item[DOG] 1\n",
       "\\item[ELEPHANT] 2\n",
       "\\item[RABBIT] 3\n",
       "\\item[RAT] 3\n",
       "\\item[DEER] 3\n",
       "\\item[REINDEER] 3\n",
       "\\item[WHALE] 3\n",
       "\\item[SEAL] 3\n",
       "\\item[DOLPHIN] 2\n",
       "\\end{description*}\n"
      ],
      "text/markdown": [
       "HORSE\n",
       ":   1ORANGUTAN\n",
       ":   1MONKEY\n",
       ":   1DONKEY\n",
       ":   1HIPPO\n",
       ":   1CAMEL\n",
       ":   1BISON\n",
       ":   1BUFFALO\n",
       ":   2GUINEA_PIG\n",
       ":   2CAT\n",
       ":   2FOX\n",
       ":   1LLAMA\n",
       ":   1MULE\n",
       ":   1PIG\n",
       ":   1ZEBRA\n",
       ":   1SHEEP\n",
       ":   1DOG\n",
       ":   1ELEPHANT\n",
       ":   2RABBIT\n",
       ":   3RAT\n",
       ":   3DEER\n",
       ":   3REINDEER\n",
       ":   3WHALE\n",
       ":   3SEAL\n",
       ":   3DOLPHIN\n",
       ":   2\n",
       "\n"
      ],
      "text/plain": [
       "     HORSE  ORANGUTAN     MONKEY     DONKEY      HIPPO      CAMEL      BISON \n",
       "         1          1          1          1          1          1          1 \n",
       "   BUFFALO GUINEA_PIG        CAT        FOX      LLAMA       MULE        PIG \n",
       "         2          2          2          1          1          1          1 \n",
       "     ZEBRA      SHEEP        DOG   ELEPHANT     RABBIT        RAT       DEER \n",
       "         1          1          1          2          3          3          3 \n",
       "  REINDEER      WHALE       SEAL    DOLPHIN \n",
       "         3          3          3          2 "
      ]
     },
     "metadata": {},
     "output_type": "display_data"
    }
   ],
   "source": [
    "#para g=3 (3 grupos)\n",
    "clus3 <-Mclust(datos, G=3)\n",
    "summary(clus3)\n",
    "clus3\n",
    "\n",
    "cl3 <- clus3$classification\n",
    "centers3 <- t(clus3$parameters$mean)\n",
    "centers3\n",
    "cl3"
   ]
  },
  {
   "cell_type": "markdown",
   "metadata": {},
   "source": [
    "**RESPUESTA: Diferencias entre los modelos de 2 y 3 grupos<br>**\n",
    "Los siguientes animales fueron *cambiados de grupo*<br>\n",
    "<br>\n",
    "Esta tabla muestra la lista de animales y a los grupos que pertenecen al realziar 2 clusters y 3 clusters.\n",
    "\n",
    "| Animal  | 2 grupos | 3 grupos |\n",
    "| ------------- | ------------- |\n",
    "| Buffalo  | 1  | 2  |\n",
    "| Guinea pig  | 1  | 2  |\n",
    "| Cat  | 1  | 2  |\n",
    "| Rabbit  | 1  | 3  |\n",
    "| Rat  | 2  | 3  |\n",
    "| Deer  | 2  | 3  |\n",
    "| Reindeer  | 2  | 3  |\n",
    "| Whale  | 2  | 3  |\n",
    "| Seal  | 2  | 3  |\n"
   ]
  },
  {
   "cell_type": "markdown",
   "metadata": {},
   "source": [
    "En lo que sigue, utilizaremos el método hclust, que permite realizar análisis de agrupamiento jerárquico"
   ]
  },
  {
   "cell_type": "code",
   "execution_count": 27,
   "metadata": {},
   "outputs": [
    {
     "data": {
      "image/png": "[encoded data removed]",
      "text/plain": [
       "plot without title"
      ]
     },
     "metadata": {},
     "output_type": "display_data"
    },
    {
     "data": {
      "image/png": "[encoded data removed]",
      "text/plain": [
       "Plot with title “Cluster Dendrogram”"
      ]
     },
     "metadata": {},
     "output_type": "display_data"
    }
   ],
   "source": [
    "disimilitud <- dist(datos)\n",
    "res3 <- hclust(disimilitud)\n",
    "biplot(res, xlabs= cutree(res3,4))\n",
    "\n",
    "plot(res3)"
   ]
  },
  {
   "cell_type": "markdown",
   "metadata": {},
   "source": [
    "Ejercicio 3: \n",
    "a) Explique como funciona el método hclust, describa parámetros de entrada y salida.\n",
    "b) Interprete y comente los resultados obtenidos. \n",
    "c) Utilice otros parámetros en hclust y discuta como varían los resultados. "
   ]
  },
  {
   "cell_type": "markdown",
   "metadata": {},
   "source": [
    "**a)**<br>\n",
    "hclust utiliza una matriz de disimilaridad,\n",
    "Las entradas son:\n",
    "- **d**: Matriz de disimilitud\n",
    "- **method**: puede ser single, complete o average: Son los métodos vistos en clase.\n",
    "- **members**: por defecto es nulo, o puede ser un vector del tamaño d\n",
    "\n",
    "\n",
    "La salida es un dendograma\n",
    "\n",
    "**b)**<br>\n",
    "La salida es un dendograma de tipo aglomerativo"
   ]
  },
  {
   "cell_type": "code",
   "execution_count": 28,
   "metadata": {},
   "outputs": [
    {
     "data": {
      "image/png": "[encoded data removed]",
      "text/plain": [
       "Plot with title “Cluster Dendrogram”"
      ]
     },
     "metadata": {},
     "output_type": "display_data"
    },
    {
     "data": {
      "image/png": "[encoded data removed]",
      "text/plain": [
       "Plot with title “Cluster Dendrogram”"
      ]
     },
     "metadata": {},
     "output_type": "display_data"
    }
   ],
   "source": [
    "#C\n",
    "plot(hclust(disimilitud,method=\"average\"))\n",
    "plot(hclust(disimilitud,method=\"single\"))"
   ]
  },
  {
   "cell_type": "markdown",
   "metadata": {},
   "source": [
    "**C)**\n",
    "Pese a utilizar distintos metodos para armar los clusters, los agrupaciones son muy similares entre si."
   ]
  },
  {
   "cell_type": "markdown",
   "metadata": {},
   "source": [
    "Ejercicio 4: \n",
    "a) Realice un análisis de clustering con Kmeans, GMM y Análisis Jerárquico para el conjunto de datos iris.csv\n",
    "Interprete sus resultados.\n",
    "b) Calcule alguna de las medidas de calidad estudiadas (purity, rand index o mutual information) \n",
    "para cada uno de los análisis realizado en (a). Discuta sus resultados."
   ]
  },
  {
   "cell_type": "code",
   "execution_count": 40,
   "metadata": {},
   "outputs": [
    {
     "data": {
      "text/plain": [
       "'Mclust' model object: (VEV,3) \n",
       "\n",
       "Available components: \n",
       " [1] \"call\"           \"data\"           \"modelName\"      \"n\"             \n",
       " [5] \"d\"              \"G\"              \"BIC\"            \"bic\"           \n",
       " [9] \"loglik\"         \"df\"             \"hypvol\"         \"parameters\"    \n",
       "[13] \"z\"              \"classification\" \"uncertainty\"   "
      ]
     },
     "metadata": {},
     "output_type": "display_data"
    },
    {
     "data": {
      "text/html": [
       "<table>\n",
       "<thead><tr><th scope=col>SepalLengthCm</th><th scope=col>SepalWidthCm</th><th scope=col>PetalLengthCm</th><th scope=col>PetalWidthCm</th></tr></thead>\n",
       "<tbody>\n",
       "\t<tr><td>5.006000</td><td>3.418000</td><td>1.464000</td><td>0.244000</td></tr>\n",
       "\t<tr><td>5.915283</td><td>2.777258</td><td>4.203786</td><td>1.298823</td></tr>\n",
       "\t<tr><td>6.546327</td><td>2.949694</td><td>5.481854</td><td>1.985306</td></tr>\n",
       "</tbody>\n",
       "</table>\n"
      ],
      "text/latex": [
       "\\begin{tabular}{llll}\n",
       " SepalLengthCm & SepalWidthCm & PetalLengthCm & PetalWidthCm\\\\\n",
       "\\hline\n",
       "\t 5.006000 & 3.418000 & 1.464000 & 0.244000\\\\\n",
       "\t 5.915283 & 2.777258 & 4.203786 & 1.298823\\\\\n",
       "\t 6.546327 & 2.949694 & 5.481854 & 1.985306\\\\\n",
       "\\end{tabular}\n"
      ],
      "text/markdown": [
       "\n",
       "SepalLengthCm | SepalWidthCm | PetalLengthCm | PetalWidthCm | \n",
       "|---|---|---|\n",
       "| 5.006000 | 3.418000 | 1.464000 | 0.244000 | \n",
       "| 5.915283 | 2.777258 | 4.203786 | 1.298823 | \n",
       "| 6.546327 | 2.949694 | 5.481854 | 1.985306 | \n",
       "\n",
       "\n"
      ],
      "text/plain": [
       "     SepalLengthCm SepalWidthCm PetalLengthCm PetalWidthCm\n",
       "[1,] 5.006000      3.418000     1.464000      0.244000    \n",
       "[2,] 5.915283      2.777258     4.203786      1.298823    \n",
       "[3,] 6.546327      2.949694     5.481854      1.985306    "
      ]
     },
     "metadata": {},
     "output_type": "display_data"
    },
    {
     "data": {
      "text/html": [
       "<ol class=list-inline>\n",
       "\t<li>1</li>\n",
       "\t<li>1</li>\n",
       "\t<li>1</li>\n",
       "\t<li>1</li>\n",
       "\t<li>1</li>\n",
       "\t<li>1</li>\n",
       "\t<li>1</li>\n",
       "\t<li>1</li>\n",
       "\t<li>1</li>\n",
       "\t<li>1</li>\n",
       "\t<li>1</li>\n",
       "\t<li>1</li>\n",
       "\t<li>1</li>\n",
       "\t<li>1</li>\n",
       "\t<li>1</li>\n",
       "\t<li>1</li>\n",
       "\t<li>1</li>\n",
       "\t<li>1</li>\n",
       "\t<li>1</li>\n",
       "\t<li>1</li>\n",
       "\t<li>1</li>\n",
       "\t<li>1</li>\n",
       "\t<li>1</li>\n",
       "\t<li>1</li>\n",
       "\t<li>1</li>\n",
       "\t<li>1</li>\n",
       "\t<li>1</li>\n",
       "\t<li>1</li>\n",
       "\t<li>1</li>\n",
       "\t<li>1</li>\n",
       "\t<li>1</li>\n",
       "\t<li>1</li>\n",
       "\t<li>1</li>\n",
       "\t<li>1</li>\n",
       "\t<li>1</li>\n",
       "\t<li>1</li>\n",
       "\t<li>1</li>\n",
       "\t<li>1</li>\n",
       "\t<li>1</li>\n",
       "\t<li>1</li>\n",
       "\t<li>1</li>\n",
       "\t<li>1</li>\n",
       "\t<li>1</li>\n",
       "\t<li>1</li>\n",
       "\t<li>1</li>\n",
       "\t<li>1</li>\n",
       "\t<li>1</li>\n",
       "\t<li>1</li>\n",
       "\t<li>1</li>\n",
       "\t<li>1</li>\n",
       "\t<li>2</li>\n",
       "\t<li>2</li>\n",
       "\t<li>2</li>\n",
       "\t<li>2</li>\n",
       "\t<li>2</li>\n",
       "\t<li>2</li>\n",
       "\t<li>2</li>\n",
       "\t<li>2</li>\n",
       "\t<li>2</li>\n",
       "\t<li>2</li>\n",
       "\t<li>2</li>\n",
       "\t<li>2</li>\n",
       "\t<li>2</li>\n",
       "\t<li>2</li>\n",
       "\t<li>2</li>\n",
       "\t<li>2</li>\n",
       "\t<li>2</li>\n",
       "\t<li>2</li>\n",
       "\t<li>3</li>\n",
       "\t<li>2</li>\n",
       "\t<li>3</li>\n",
       "\t<li>2</li>\n",
       "\t<li>3</li>\n",
       "\t<li>2</li>\n",
       "\t<li>2</li>\n",
       "\t<li>2</li>\n",
       "\t<li>2</li>\n",
       "\t<li>3</li>\n",
       "\t<li>2</li>\n",
       "\t<li>2</li>\n",
       "\t<li>2</li>\n",
       "\t<li>2</li>\n",
       "\t<li>2</li>\n",
       "\t<li>3</li>\n",
       "\t<li>2</li>\n",
       "\t<li>2</li>\n",
       "\t<li>2</li>\n",
       "\t<li>2</li>\n",
       "\t<li>2</li>\n",
       "\t<li>2</li>\n",
       "\t<li>2</li>\n",
       "\t<li>2</li>\n",
       "\t<li>2</li>\n",
       "\t<li>2</li>\n",
       "\t<li>2</li>\n",
       "\t<li>2</li>\n",
       "\t<li>2</li>\n",
       "\t<li>2</li>\n",
       "\t<li>2</li>\n",
       "\t<li>2</li>\n",
       "\t<li>3</li>\n",
       "\t<li>3</li>\n",
       "\t<li>3</li>\n",
       "\t<li>3</li>\n",
       "\t<li>3</li>\n",
       "\t<li>3</li>\n",
       "\t<li>3</li>\n",
       "\t<li>3</li>\n",
       "\t<li>3</li>\n",
       "\t<li>3</li>\n",
       "\t<li>3</li>\n",
       "\t<li>3</li>\n",
       "\t<li>3</li>\n",
       "\t<li>3</li>\n",
       "\t<li>3</li>\n",
       "\t<li>3</li>\n",
       "\t<li>3</li>\n",
       "\t<li>3</li>\n",
       "\t<li>3</li>\n",
       "\t<li>3</li>\n",
       "\t<li>3</li>\n",
       "\t<li>3</li>\n",
       "\t<li>3</li>\n",
       "\t<li>3</li>\n",
       "\t<li>3</li>\n",
       "\t<li>3</li>\n",
       "\t<li>3</li>\n",
       "\t<li>3</li>\n",
       "\t<li>3</li>\n",
       "\t<li>3</li>\n",
       "\t<li>3</li>\n",
       "\t<li>3</li>\n",
       "\t<li>3</li>\n",
       "\t<li>3</li>\n",
       "\t<li>3</li>\n",
       "\t<li>3</li>\n",
       "\t<li>3</li>\n",
       "\t<li>3</li>\n",
       "\t<li>3</li>\n",
       "\t<li>3</li>\n",
       "\t<li>3</li>\n",
       "\t<li>3</li>\n",
       "\t<li>3</li>\n",
       "\t<li>3</li>\n",
       "\t<li>3</li>\n",
       "\t<li>3</li>\n",
       "\t<li>3</li>\n",
       "\t<li>3</li>\n",
       "\t<li>3</li>\n",
       "\t<li>3</li>\n",
       "</ol>\n"
      ],
      "text/latex": [
       "\\begin{enumerate*}\n",
       "\\item 1\n",
       "\\item 1\n",
       "\\item 1\n",
       "\\item 1\n",
       "\\item 1\n",
       "\\item 1\n",
       "\\item 1\n",
       "\\item 1\n",
       "\\item 1\n",
       "\\item 1\n",
       "\\item 1\n",
       "\\item 1\n",
       "\\item 1\n",
       "\\item 1\n",
       "\\item 1\n",
       "\\item 1\n",
       "\\item 1\n",
       "\\item 1\n",
       "\\item 1\n",
       "\\item 1\n",
       "\\item 1\n",
       "\\item 1\n",
       "\\item 1\n",
       "\\item 1\n",
       "\\item 1\n",
       "\\item 1\n",
       "\\item 1\n",
       "\\item 1\n",
       "\\item 1\n",
       "\\item 1\n",
       "\\item 1\n",
       "\\item 1\n",
       "\\item 1\n",
       "\\item 1\n",
       "\\item 1\n",
       "\\item 1\n",
       "\\item 1\n",
       "\\item 1\n",
       "\\item 1\n",
       "\\item 1\n",
       "\\item 1\n",
       "\\item 1\n",
       "\\item 1\n",
       "\\item 1\n",
       "\\item 1\n",
       "\\item 1\n",
       "\\item 1\n",
       "\\item 1\n",
       "\\item 1\n",
       "\\item 1\n",
       "\\item 2\n",
       "\\item 2\n",
       "\\item 2\n",
       "\\item 2\n",
       "\\item 2\n",
       "\\item 2\n",
       "\\item 2\n",
       "\\item 2\n",
       "\\item 2\n",
       "\\item 2\n",
       "\\item 2\n",
       "\\item 2\n",
       "\\item 2\n",
       "\\item 2\n",
       "\\item 2\n",
       "\\item 2\n",
       "\\item 2\n",
       "\\item 2\n",
       "\\item 3\n",
       "\\item 2\n",
       "\\item 3\n",
       "\\item 2\n",
       "\\item 3\n",
       "\\item 2\n",
       "\\item 2\n",
       "\\item 2\n",
       "\\item 2\n",
       "\\item 3\n",
       "\\item 2\n",
       "\\item 2\n",
       "\\item 2\n",
       "\\item 2\n",
       "\\item 2\n",
       "\\item 3\n",
       "\\item 2\n",
       "\\item 2\n",
       "\\item 2\n",
       "\\item 2\n",
       "\\item 2\n",
       "\\item 2\n",
       "\\item 2\n",
       "\\item 2\n",
       "\\item 2\n",
       "\\item 2\n",
       "\\item 2\n",
       "\\item 2\n",
       "\\item 2\n",
       "\\item 2\n",
       "\\item 2\n",
       "\\item 2\n",
       "\\item 3\n",
       "\\item 3\n",
       "\\item 3\n",
       "\\item 3\n",
       "\\item 3\n",
       "\\item 3\n",
       "\\item 3\n",
       "\\item 3\n",
       "\\item 3\n",
       "\\item 3\n",
       "\\item 3\n",
       "\\item 3\n",
       "\\item 3\n",
       "\\item 3\n",
       "\\item 3\n",
       "\\item 3\n",
       "\\item 3\n",
       "\\item 3\n",
       "\\item 3\n",
       "\\item 3\n",
       "\\item 3\n",
       "\\item 3\n",
       "\\item 3\n",
       "\\item 3\n",
       "\\item 3\n",
       "\\item 3\n",
       "\\item 3\n",
       "\\item 3\n",
       "\\item 3\n",
       "\\item 3\n",
       "\\item 3\n",
       "\\item 3\n",
       "\\item 3\n",
       "\\item 3\n",
       "\\item 3\n",
       "\\item 3\n",
       "\\item 3\n",
       "\\item 3\n",
       "\\item 3\n",
       "\\item 3\n",
       "\\item 3\n",
       "\\item 3\n",
       "\\item 3\n",
       "\\item 3\n",
       "\\item 3\n",
       "\\item 3\n",
       "\\item 3\n",
       "\\item 3\n",
       "\\item 3\n",
       "\\item 3\n",
       "\\end{enumerate*}\n"
      ],
      "text/markdown": [
       "1. 1\n",
       "2. 1\n",
       "3. 1\n",
       "4. 1\n",
       "5. 1\n",
       "6. 1\n",
       "7. 1\n",
       "8. 1\n",
       "9. 1\n",
       "10. 1\n",
       "11. 1\n",
       "12. 1\n",
       "13. 1\n",
       "14. 1\n",
       "15. 1\n",
       "16. 1\n",
       "17. 1\n",
       "18. 1\n",
       "19. 1\n",
       "20. 1\n",
       "21. 1\n",
       "22. 1\n",
       "23. 1\n",
       "24. 1\n",
       "25. 1\n",
       "26. 1\n",
       "27. 1\n",
       "28. 1\n",
       "29. 1\n",
       "30. 1\n",
       "31. 1\n",
       "32. 1\n",
       "33. 1\n",
       "34. 1\n",
       "35. 1\n",
       "36. 1\n",
       "37. 1\n",
       "38. 1\n",
       "39. 1\n",
       "40. 1\n",
       "41. 1\n",
       "42. 1\n",
       "43. 1\n",
       "44. 1\n",
       "45. 1\n",
       "46. 1\n",
       "47. 1\n",
       "48. 1\n",
       "49. 1\n",
       "50. 1\n",
       "51. 2\n",
       "52. 2\n",
       "53. 2\n",
       "54. 2\n",
       "55. 2\n",
       "56. 2\n",
       "57. 2\n",
       "58. 2\n",
       "59. 2\n",
       "60. 2\n",
       "61. 2\n",
       "62. 2\n",
       "63. 2\n",
       "64. 2\n",
       "65. 2\n",
       "66. 2\n",
       "67. 2\n",
       "68. 2\n",
       "69. 3\n",
       "70. 2\n",
       "71. 3\n",
       "72. 2\n",
       "73. 3\n",
       "74. 2\n",
       "75. 2\n",
       "76. 2\n",
       "77. 2\n",
       "78. 3\n",
       "79. 2\n",
       "80. 2\n",
       "81. 2\n",
       "82. 2\n",
       "83. 2\n",
       "84. 3\n",
       "85. 2\n",
       "86. 2\n",
       "87. 2\n",
       "88. 2\n",
       "89. 2\n",
       "90. 2\n",
       "91. 2\n",
       "92. 2\n",
       "93. 2\n",
       "94. 2\n",
       "95. 2\n",
       "96. 2\n",
       "97. 2\n",
       "98. 2\n",
       "99. 2\n",
       "100. 2\n",
       "101. 3\n",
       "102. 3\n",
       "103. 3\n",
       "104. 3\n",
       "105. 3\n",
       "106. 3\n",
       "107. 3\n",
       "108. 3\n",
       "109. 3\n",
       "110. 3\n",
       "111. 3\n",
       "112. 3\n",
       "113. 3\n",
       "114. 3\n",
       "115. 3\n",
       "116. 3\n",
       "117. 3\n",
       "118. 3\n",
       "119. 3\n",
       "120. 3\n",
       "121. 3\n",
       "122. 3\n",
       "123. 3\n",
       "124. 3\n",
       "125. 3\n",
       "126. 3\n",
       "127. 3\n",
       "128. 3\n",
       "129. 3\n",
       "130. 3\n",
       "131. 3\n",
       "132. 3\n",
       "133. 3\n",
       "134. 3\n",
       "135. 3\n",
       "136. 3\n",
       "137. 3\n",
       "138. 3\n",
       "139. 3\n",
       "140. 3\n",
       "141. 3\n",
       "142. 3\n",
       "143. 3\n",
       "144. 3\n",
       "145. 3\n",
       "146. 3\n",
       "147. 3\n",
       "148. 3\n",
       "149. 3\n",
       "150. 3\n",
       "\n",
       "\n"
      ],
      "text/plain": [
       "  [1] 1 1 1 1 1 1 1 1 1 1 1 1 1 1 1 1 1 1 1 1 1 1 1 1 1 1 1 1 1 1 1 1 1 1 1 1 1\n",
       " [38] 1 1 1 1 1 1 1 1 1 1 1 1 1 2 2 2 2 2 2 2 2 2 2 2 2 2 2 2 2 2 2 3 2 3 2 3 2\n",
       " [75] 2 2 2 3 2 2 2 2 2 3 2 2 2 2 2 2 2 2 2 2 2 2 2 2 2 2 3 3 3 3 3 3 3 3 3 3 3\n",
       "[112] 3 3 3 3 3 3 3 3 3 3 3 3 3 3 3 3 3 3 3 3 3 3 3 3 3 3 3 3 3 3 3 3 3 3 3 3 3\n",
       "[149] 3 3"
      ]
     },
     "metadata": {},
     "output_type": "display_data"
    },
    {
     "data": {
      "text/plain": [
       "                 \n",
       "especies           1  2  3\n",
       "  Iris-setosa     50  0  0\n",
       "  Iris-versicolor  0 45  5\n",
       "  Iris-virginica   0  0 50"
      ]
     },
     "metadata": {},
     "output_type": "display_data"
    },
    {
     "name": "stdout",
     "output_type": "stream",
     "text": [
      "[1] \"##############################################################\"\n"
     ]
    },
    {
     "data": {
      "text/html": [
       "<table>\n",
       "<thead><tr><th></th><th scope=col>Comp.1</th><th scope=col>Comp.2</th><th scope=col>Comp.3</th><th scope=col>Comp.4</th></tr></thead>\n",
       "<tbody>\n",
       "\t<tr><th scope=row>1</th><td> 1.9294933 </td><td> 0.5951182 </td><td>-0.01741106</td><td> 0.01077987</td></tr>\n",
       "\t<tr><th scope=row>2</th><td>-2.2201933 </td><td> 0.2922248 </td><td> 0.04395511</td><td> 0.01791615</td></tr>\n",
       "\t<tr><th scope=row>3</th><td> 0.6078858 </td><td>-0.6004150 </td><td>-0.02477638</td><td>-0.02105552</td></tr>\n",
       "</tbody>\n",
       "</table>\n"
      ],
      "text/latex": [
       "\\begin{tabular}{r|llll}\n",
       "  & Comp.1 & Comp.2 & Comp.3 & Comp.4\\\\\n",
       "\\hline\n",
       "\t1 &  1.9294933  &  0.5951182  & -0.01741106 &  0.01077987\\\\\n",
       "\t2 & -2.2201933  &  0.2922248  &  0.04395511 &  0.01791615\\\\\n",
       "\t3 &  0.6078858  & -0.6004150  & -0.02477638 & -0.02105552\\\\\n",
       "\\end{tabular}\n"
      ],
      "text/markdown": [
       "\n",
       "| <!--/--> | Comp.1 | Comp.2 | Comp.3 | Comp.4 | \n",
       "|---|---|---|\n",
       "| 1 |  1.9294933  |  0.5951182  | -0.01741106 |  0.01077987 | \n",
       "| 2 | -2.2201933  |  0.2922248  |  0.04395511 |  0.01791615 | \n",
       "| 3 |  0.6078858  | -0.6004150  | -0.02477638 | -0.02105552 | \n",
       "\n",
       "\n"
      ],
      "text/plain": [
       "  Comp.1     Comp.2     Comp.3      Comp.4     \n",
       "1  1.9294933  0.5951182 -0.01741106  0.01077987\n",
       "2 -2.2201933  0.2922248  0.04395511  0.01791615\n",
       "3  0.6078858 -0.6004150 -0.02477638 -0.02105552"
      ]
     },
     "metadata": {},
     "output_type": "display_data"
    },
    {
     "data": {
      "text/plain": [
       "K-means clustering with 3 clusters of sizes 38, 50, 62\n",
       "\n",
       "Cluster means:\n",
       "  SepalLengthCm SepalWidthCm PetalLengthCm PetalWidthCm\n",
       "1      6.850000     3.073684      5.742105     2.071053\n",
       "2      5.006000     3.418000      1.464000     0.244000\n",
       "3      5.901613     2.748387      4.393548     1.433871\n",
       "\n",
       "Clustering vector:\n",
       "  [1] 2 2 2 2 2 2 2 2 2 2 2 2 2 2 2 2 2 2 2 2 2 2 2 2 2 2 2 2 2 2 2 2 2 2 2 2 2\n",
       " [38] 2 2 2 2 2 2 2 2 2 2 2 2 2 3 3 1 3 3 3 3 3 3 3 3 3 3 3 3 3 3 3 3 3 3 3 3 3\n",
       " [75] 3 3 3 1 3 3 3 3 3 3 3 3 3 3 3 3 3 3 3 3 3 3 3 3 3 3 1 3 1 1 1 1 3 1 1 1 1\n",
       "[112] 1 1 3 3 1 1 1 1 3 1 3 1 3 1 1 3 3 1 1 1 1 1 3 1 1 1 1 3 1 1 1 3 1 1 1 3 1\n",
       "[149] 1 3\n",
       "\n",
       "Within cluster sum of squares by cluster:\n",
       "[1] 23.87947 15.24040 39.82097\n",
       " (between_SS / total_SS =  88.4 %)\n",
       "\n",
       "Available components:\n",
       "\n",
       "[1] \"cluster\"      \"centers\"      \"totss\"        \"withinss\"     \"tot.withinss\"\n",
       "[6] \"betweenss\"    \"size\"         \"iter\"         \"ifault\"      "
      ]
     },
     "metadata": {},
     "output_type": "display_data"
    },
    {
     "data": {
      "text/plain": [
       "                 \n",
       "especies           1  2  3\n",
       "  Iris-setosa      0 50  0\n",
       "  Iris-versicolor  2  0 48\n",
       "  Iris-virginica  36  0 14"
      ]
     },
     "metadata": {},
     "output_type": "display_data"
    },
    {
     "name": "stdout",
     "output_type": "stream",
     "text": [
      "[1] \"##############################################################\"\n"
     ]
    },
    {
     "data": {
      "text/plain": [
       "                 cutr\n",
       "especies           1  2  3\n",
       "  Iris-setosa     50  0  0\n",
       "  Iris-versicolor  0 23 27\n",
       "  Iris-virginica   0 49  1"
      ]
     },
     "metadata": {},
     "output_type": "display_data"
    }
   ],
   "source": [
    "data<- read.csv(\"iris2.csv\",sep=\",\",header=TRUE )\n",
    "ft <- data[2:5] #Obtener solo los features\n",
    "especies<-data$Species\n",
    "dis <- dist(ft)\n",
    "\n",
    "\n",
    "#utilizando gmm\n",
    "clus <-Mclust(ft, G=3)\n",
    "clus\n",
    "cl <- clus$classification\n",
    "centers <- t(clus$parameters$mean)\n",
    "centers\n",
    "cl\n",
    "table(especies,clus$classification)\n",
    "print(\"##############################################################\")\n",
    "\n",
    "\n",
    "#utilizando k-means\n",
    "\n",
    "cl<-kmeans(ft,3,iter.max=1000,nstart=10)\n",
    "res <- princomp(ft, cor=TRUE)\n",
    "predict(res,cl$centers)\n",
    "cl\n",
    "table(especies,cl$cluster)\n",
    "print(\"##############################################################\")\n",
    "cutr<-cutree(hclust(dis),3)\n",
    "table(especies,cutr)"
   ]
  },
  {
   "cell_type": "code",
   "execution_count": 44,
   "metadata": {},
   "outputs": [
    {
     "name": "stdout",
     "output_type": "stream",
     "text": [
      "[1] \"Purity hclust:\"\n"
     ]
    },
    {
     "data": {
      "text/html": [
       "0.84"
      ],
      "text/latex": [
       "0.84"
      ],
      "text/markdown": [
       "0.84"
      ],
      "text/plain": [
       "[1] 0.84"
      ]
     },
     "metadata": {},
     "output_type": "display_data"
    },
    {
     "name": "stdout",
     "output_type": "stream",
     "text": [
      "[1] \"Purity GMM:\"\n"
     ]
    },
    {
     "data": {
      "text/html": [
       "0.966666666666667"
      ],
      "text/latex": [
       "0.966666666666667"
      ],
      "text/markdown": [
       "0.966666666666667"
      ],
      "text/plain": [
       "[1] 0.9666667"
      ]
     },
     "metadata": {},
     "output_type": "display_data"
    },
    {
     "name": "stdout",
     "output_type": "stream",
     "text": [
      "[1] \"Purity K-keans:\"\n"
     ]
    },
    {
     "data": {
      "text/html": [
       "0.893333333333333"
      ],
      "text/latex": [
       "0.893333333333333"
      ],
      "text/markdown": [
       "0.893333333333333"
      ],
      "text/plain": [
       "[1] 0.8933333"
      ]
     },
     "metadata": {},
     "output_type": "display_data"
    }
   ],
   "source": [
    "#funcion de purity (obtenida de internet)\n",
    "ClusterPurity <- function(clusters, classes) {\n",
    "  sum(apply(table(classes, clusters), 2, max)) / length(clusters)\n",
    "}\n",
    "\n",
    "\n",
    "print(\"Purity hclust:\")\n",
    "ClusterPurity(especies,cutr)\n",
    "\n",
    "print(\"Purity GMM:\")\n",
    "ClusterPurity(especies,clus$classification)\n",
    "\n",
    "print(\"Purity K-keans:\")\n",
    "ClusterPurity(especies,cl$cluster)\n"
   ]
  },
  {
   "cell_type": "markdown",
   "metadata": {},
   "source": [
    "Se puede concluir que para estos datos, el mejor método es GMM, ya que posee un purity mayor a los demás. "
   ]
  }
 ],
 "metadata": {
  "celltoolbar": "Raw Cell Format",
  "kernelspec": {
   "display_name": "R 5.1",
   "language": "R",
   "name": "ir51"
  },
  "language_info": {
   "codemirror_mode": "r",
   "file_extension": ".r",
   "mimetype": "text/x-r-source",
   "name": "R",
   "pygments_lexer": "r",
   "version": "3.5.1"
  }
 },
 "nbformat": 4,
 "nbformat_minor": 2
}
